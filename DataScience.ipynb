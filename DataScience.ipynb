{
  "metadata": {
    "language_info": {
      "codemirror_mode": {
        "name": "python",
        "version": 3
      },
      "file_extension": ".py",
      "mimetype": "text/x-python",
      "name": "python",
      "nbconvert_exporter": "python",
      "pygments_lexer": "ipython3",
      "version": "3.8"
    },
    "kernelspec": {
      "name": "python",
      "display_name": "Pyolite",
      "language": "python"
    }
  },
  "nbformat_minor": 4,
  "nbformat": 4,
  "cells": [
    {
      "cell_type": "markdown",
      "source": "# Exploring Data Science Tools and Ecosystem",
      "metadata": {}
    },
    {
      "cell_type": "markdown",
      "source": "This notebook serves as a comprehensive exploration of various data science tools and the ecosystem surrounding them.",
      "metadata": {}
    },
    {
      "cell_type": "markdown",
      "source": "## Popular Data Science Languages:",
      "metadata": {}
    },
    {
      "cell_type": "markdown",
      "source": "- Python\n- R\n- SQL\n- Julia\n- JavaScript",
      "metadata": {}
    },
    {
      "cell_type": "markdown",
      "source": "## Popular Data Science Libraries:",
      "metadata": {}
    },
    {
      "cell_type": "markdown",
      "source": "- Pandas\n- NumPy\n- Matplotlib\n- Seaborn\n- Scikit-learn",
      "metadata": {}
    },
    {
      "cell_type": "markdown",
      "source": "## Popular Data Science Tools:",
      "metadata": {}
    },
    {
      "cell_type": "markdown",
      "source": "| Tool       | Description                              |\n|------------|------------------------------------------|\n| VS Code    | Integrated development environment (IDE) |\n| JupyterLab | Interactive computing environment        |\n| RStudio    | IDE for R programming                     |",
      "metadata": {}
    },
    {
      "cell_type": "markdown",
      "source": "## Arithmetic Expressions in Python:",
      "metadata": {}
    },
    {
      "cell_type": "markdown",
      "source": "```python\n# Multiplication and Addition\nresult_multiply = (3 * 4) + 5\nprint(\"Result of multiplication then addition:\", result_multiply)\n\n# Conversion of Minutes to Hours\ntotal_minutes = 200\nminutes_in_an_hour = 60\nhours = total_minutes / minutes_in_an_hour\nprint(\"Conversion of 200 minutes to hours:\", hours)\n```",
      "metadata": {}
    },
    {
      "cell_type": "markdown",
      "source": "## Author:\n- [Tahir Oumar]",
      "metadata": {}
    }
  ]
}
